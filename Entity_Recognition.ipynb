{
 "cells": [
  {
   "cell_type": "code",
   "execution_count": 1,
   "metadata": {},
   "outputs": [],
   "source": [
    "try:\n",
    "    import spacy\n",
    "    import json\n",
    "except Exception as e:\n",
    "    print(e)\n",
    "    \n",
    "\n",
    "class EntityGenerator(object):\n",
    "    \n",
    "    _slots__ = ['text']\n",
    "    \n",
    "    def __init__(self, text=None):\n",
    "        self.text = text\n",
    "        \n",
    "    def get(self):\n",
    "        \"\"\"\n",
    "        Return a Json\n",
    "        \"\"\"\n",
    "        nlp = spacy.load(\"en_core_web_sm\")\n",
    "        doc = nlp(self.text)\n",
    "        text = [ent.text for ent in doc.ents]\n",
    "        entity = [ent.label_ for ent in doc.ents]\n",
    "    \n",
    "        from collections import Counter\n",
    "        import json\n",
    "\n",
    "        data = Counter(zip(entity))\n",
    "        unique_entity = list(data.keys())\n",
    "        unique_entity = [x[0] for x in unique_entity]\n",
    "\n",
    "        d = {}\n",
    "        for val in unique_entity:\n",
    "            d[val] = []\n",
    "\n",
    "        for key,val in dict(zip(text, entity)).items():\n",
    "            if val in unique_entity:\n",
    "                d[val].append(key)\n",
    "        return d"
   ]
  },
  {
   "cell_type": "code",
   "execution_count": 2,
   "metadata": {},
   "outputs": [],
   "source": [
    "try:\n",
    "    import PyPDF2\n",
    "    import requests\n",
    "    import json\n",
    "except Exception:\n",
    "    pass\n",
    "\n",
    "class Resume(object):\n",
    "    def __init__(self, filename=None):\n",
    "        self.filename = filename\n",
    "        \n",
    "    def get(self):\n",
    "        \"\"\"\n",
    "        \n",
    "        \"\"\"\n",
    "        fFileObj = open(self.filename, 'rb')\n",
    "        pdfReader = PyPDF2.PdfFileReader(fFileObj)\n",
    "        pageObj = pdfReader.getPage(1)\n",
    "        print(\"Total Pages : {} \".format(pdfReader.numPages))\n",
    "\n",
    "        resume = pageObj.extractText()\n",
    "        return resume"
   ]
  },
  {
   "cell_type": "code",
   "execution_count": 3,
   "metadata": {},
   "outputs": [
    {
     "name": "stdout",
     "output_type": "stream",
     "text": [
      "Total Pages : 8 \n"
     ]
    },
    {
     "name": "stderr",
     "output_type": "stream",
     "text": [
      "PdfReadWarning: Xref table not zero-indexed. ID numbers for objects will be corrected. [pdf.py:1736]\n"
     ]
    }
   ],
   "source": [
    "resume = Resume(filename=\"580076.pdf\")\n",
    "response_text = resume.get()"
   ]
  },
  {
   "cell_type": "code",
   "execution_count": 4,
   "metadata": {},
   "outputs": [
    {
     "data": {
      "text/plain": [
       "\"  XIAMETER(R) \\nMaterial Safety Data Sheet\\n    Page:  2 of 8 \\nVersion:  1.0 \\nRevision Date:  2009/01/20\\n XIAMETER(R) OFS-6030 SILANE\\n    No known applicable information.   \\n The above listed potential effects of overexposure are based on actual data, results of studies performed upon similar composit\\nions, \\ncomponent data and/or expert review of the product. Please refer to Section 11 for the detailed toxicology information.\\n  3. COMPOSITION/INFORMATION ON INGREDIENTS \\n CAS Number\\n Wt %\\n Component Name\\n  2530-85-0 > 60.0 Methacryloxypropyl trimethoxysilane \\n The above components are hazardous as defined in 29 CFR 1910.1200.   \\n\\n  4. FIRST AID MEASURES \\n \\nEye: \\n Immediately flush with water for 15 minutes.  \\n  Skin: Remove from skin and immediately flush with water for 15 minutes.  Get medical attention if \\nirritation or ill effects develop or persist.  \\n  Inhalation: Remove to fresh air.  Get immediate medical attention.  \\n  Oral: Get medical attention.  \\n  Notes to Physician: Treat according to person's condition and specifics of exposure.  \\n   5. FIRE FIGHTING MEASURES \\n Flash Point: \\n\\n  > 212 °F / > 100 °C (Tag Closed Cup) \\n\\n Autoignition Temperature: \\n\\n 680 °F / 360 °C \\n Flammability Limits in Air: \\n Lower Limit:  0.80 %  Upper Limit:  16.30 %\\n Extinguishing Media: \\n On large fires use dry chemical, foam or water spray.  On small fires use carbon dioxide \\n(CO2), dry chemical or water spray.  Water can be used to cool fire exposed containers.  \\n  Fire Fighting Measures: \\n\\n Self-contained breathing apparatus and protective clothing should be worn in fighting large \\nfires involving chemicals.  Determine the need to evacuate or isolate the area according to \\nyour local emergency plan.  Use water spray to keep fire exposed containers cool.  \\n  Unusual Fire Hazards: \\n\\n None.  \\n   6. ACCIDENTAL RELEASE MEASURES \\n\""
      ]
     },
     "execution_count": 4,
     "metadata": {},
     "output_type": "execute_result"
    }
   ],
   "source": [
    "response_text"
   ]
  },
  {
   "cell_type": "code",
   "execution_count": 5,
   "metadata": {},
   "outputs": [
    {
     "name": "stdout",
     "output_type": "stream",
     "text": [
      "{\n",
      "   \"ORG\": [\n",
      "      \"Material Safety Data\",\n",
      "      \"CFR\",\n",
      "      \"C \\n Flammability Limits\"\n",
      "   ],\n",
      "   \"CARDINAL\": [\n",
      "      \"2\",\n",
      "      \"1.0\",\n",
      "      \"2009/01/20\",\n",
      "      \"29\",\n",
      "      \"5\",\n",
      "      \"680\"\n",
      "   ],\n",
      "   \"LAW\": [\n",
      "      \"Section 11\"\n",
      "   ],\n",
      "   \"PERSON\": [\n",
      "      \"Methacryloxypropyl\"\n",
      "   ],\n",
      "   \"ORDINAL\": [\n",
      "      \"FIRST\"\n",
      "   ],\n",
      "   \"WORK_OF_ART\": [\n",
      "      \"Eye: \\n Immediately\"\n",
      "   ],\n",
      "   \"TIME\": [\n",
      "      \"15 minutes\"\n",
      "   ],\n",
      "   \"PRODUCT\": [\n",
      "      \"F / 360\"\n",
      "   ],\n",
      "   \"PERCENT\": [\n",
      "      \"0.80 %\",\n",
      "      \"16.30 %\"\n",
      "   ]\n",
      "}\n"
     ]
    }
   ],
   "source": [
    "helper = EntityGenerator(text = response_text)\n",
    "response = helper.get()\n",
    "print(json.dumps(response, indent=3))"
   ]
  },
  {
   "cell_type": "code",
   "execution_count": 6,
   "metadata": {},
   "outputs": [],
   "source": [
    "import spacy\n",
    "import random"
   ]
  },
  {
   "cell_type": "code",
   "execution_count": null,
   "metadata": {},
   "outputs": [],
   "source": []
  },
  {
   "cell_type": "code",
   "execution_count": null,
   "metadata": {},
   "outputs": [],
   "source": []
  },
  {
   "cell_type": "code",
   "execution_count": null,
   "metadata": {},
   "outputs": [],
   "source": []
  },
  {
   "cell_type": "code",
   "execution_count": null,
   "metadata": {},
   "outputs": [],
   "source": []
  }
 ],
 "metadata": {
  "kernelspec": {
   "display_name": "Python 3",
   "language": "python",
   "name": "python3"
  },
  "language_info": {
   "codemirror_mode": {
    "name": "ipython",
    "version": 3
   },
   "file_extension": ".py",
   "mimetype": "text/x-python",
   "name": "python",
   "nbconvert_exporter": "python",
   "pygments_lexer": "ipython3",
   "version": "3.8.5"
  }
 },
 "nbformat": 4,
 "nbformat_minor": 4
}
