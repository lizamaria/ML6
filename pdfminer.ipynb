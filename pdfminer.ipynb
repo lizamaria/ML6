{
 "cells": [
  {
   "cell_type": "code",
   "execution_count": null,
   "id": "cubic-worship",
   "metadata": {},
   "outputs": [],
   "source": [
    "import pdfminer\n",
    "\n",
    "\n",
    "import pdfminer\n",
    "text = extract_text('586346.pdf')\n",
    "print(repr(text))\n",
    "\n",
    "\n",
    "from pdfminer.high_level import extract_pages\n",
    "\n",
    "for page_layout in extract_pages(\"586346.pdf\"):\n",
    "    for element in page_layout:\n",
    "        print(element)\n",
    "        \n"
   ]
  },
  {
   "cell_type": "code",
   "execution_count": null,
   "id": "entertaining-kuwait",
   "metadata": {},
   "outputs": [],
   "source": [
    "from pdfminer.high_level import extract_pages\n",
    "from pdfminer.layout import LTTextContainer\n",
    "for page_layout in extract_pages(\"586346.pdf\"):\n",
    "    for element in page_layout:\n",
    "        if isinstance(element, LTTextContainer):\n",
    "            print(element.get_text())"
   ]
  },
  {
   "cell_type": "code",
   "execution_count": null,
   "id": "lyric-yesterday",
   "metadata": {},
   "outputs": [],
   "source": []
  }
 ],
 "metadata": {
  "kernelspec": {
   "display_name": "Python 3",
   "language": "python",
   "name": "python3"
  },
  "language_info": {
   "codemirror_mode": {
    "name": "ipython",
    "version": 3
   },
   "file_extension": ".py",
   "mimetype": "text/x-python",
   "name": "python",
   "nbconvert_exporter": "python",
   "pygments_lexer": "ipython3",
   "version": "3.8.5"
  }
 },
 "nbformat": 4,
 "nbformat_minor": 5
}
